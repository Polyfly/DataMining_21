{
  "nbformat": 4,
  "nbformat_minor": 0,
  "metadata": {
    "kernelspec": {
      "display_name": "Python 3",
      "language": "python",
      "name": "python3"
    },
    "language_info": {
      "codemirror_mode": {
        "name": "ipython",
        "version": 3
      },
      "file_extension": ".py",
      "mimetype": "text/x-python",
      "name": "python",
      "nbconvert_exporter": "python",
      "pygments_lexer": "ipython3",
      "version": "3.7.6"
    },
    "colab": {
      "name": "Assignment-01.ipynb",
      "provenance": []
    }
  },
  "cells": [
    {
      "cell_type": "markdown",
      "metadata": {
        "id": "PJ-90hpOjy6m"
      },
      "source": [
        "# Exercise I: Your own Python module "
      ]
    },
    {
      "cell_type": "markdown",
      "metadata": {
        "id": "OxVGQEjtjy6r"
      },
      "source": [
        "Write your own python module (choose a name) with the following properties:\n",
        "\n",
        "1. start new python file for the module\n",
        "2. define a class ***ListKeeper*** with the following properties and API:\n",
        "   1. ***Listkeeper*** strores named lists (hint: use dictionaries) \n",
        "   2. it initializes with a list named *example*: [1,2,3,4,5]\n",
        "   3. ``show()`` returns all list names\n",
        "   4. ``add(name, list)`` adds a new list\n",
        "   5. ``delete(name)`` deletes list\n",
        "   6. ``sort(name)`` returns the sorted list *name*\n",
        "   7. ``append(name, list)`` appends *list* to *name* \n",
        "3. add comments and documentation to your class\n",
        "4. Import your module in this notebook\n",
        "5. write tests to check the functionality of your class "
      ]
    },
    {
      "cell_type": "markdown",
      "metadata": {
        "id": "AejXtXaXjy6s"
      },
      "source": [
        "### Generate Python files from a Jupyter Cell"
      ]
    },
    {
      "cell_type": "code",
      "metadata": {
        "id": "DOVHxTksjy6t",
        "outputId": "fe7d8197-19f6-4134-f3df-0f21f3af19e6",
        "colab": {
          "base_uri": "https://localhost:8080/"
        }
      },
      "source": [
        "%%writefile MySuperModule.py\n",
        "#all code in this cell will be saved into the local File\n",
        "\n",
        "\n",
        "# Listkeeper stores named lists\n",
        "class ListKeeper:\n",
        "    def __init__(self):\n",
        "        self.lists = { \"example\": [1,2,3,4,5] }\n",
        "\n",
        "    # returns all list names\n",
        "    def show(self):\n",
        "        for item in self.lists:\n",
        "            print(item)\n",
        "    \n",
        "    # adds a new list\n",
        "    def add(self, name, list):\n",
        "        self.lists[name] = list\n",
        "    \n",
        "    # deletes list\n",
        "    def delete(self, name):\n",
        "        self.lists.pop(name)\n",
        "    \n",
        "    # returns the sorted list name\n",
        "    def sort(self, name):\n",
        "        self.lists[name].sort()\n",
        "        print(self.lists[name])\n",
        "    \n",
        "    # appends list to name\n",
        "    def append(self, name, list):\n",
        "        for item in list:\n",
        "            self.lists[name].append(item)"
      ],
      "execution_count": 1,
      "outputs": [
        {
          "output_type": "stream",
          "name": "stdout",
          "text": [
            "Writing MySuperModule.py\n"
          ]
        }
      ]
    },
    {
      "cell_type": "code",
      "metadata": {
        "id": "p2Vm_S7vjy6v"
      },
      "source": [
        "import MySuperModule as msm"
      ],
      "execution_count": 2,
      "outputs": []
    },
    {
      "cell_type": "code",
      "metadata": {
        "id": "_TSZgUoyjy6w"
      },
      "source": [
        "keeper = msm.ListKeeper()"
      ],
      "execution_count": 3,
      "outputs": []
    },
    {
      "cell_type": "markdown",
      "metadata": {
        "id": "Pt7yKYYAmumq"
      },
      "source": [
        "**Test 1:** show initial list name"
      ]
    },
    {
      "cell_type": "code",
      "metadata": {
        "id": "ydNrCKiwjy6w",
        "outputId": "9c863a46-a128-49a8-fd7d-868df4e82835",
        "colab": {
          "base_uri": "https://localhost:8080/"
        }
      },
      "source": [
        "keeper.show()"
      ],
      "execution_count": 4,
      "outputs": [
        {
          "output_type": "stream",
          "name": "stdout",
          "text": [
            "example\n"
          ]
        }
      ]
    },
    {
      "cell_type": "markdown",
      "metadata": {
        "id": "HF-J5YgAnCob"
      },
      "source": [
        "**Test 2:** add new dictionary item and show all list names"
      ]
    },
    {
      "cell_type": "code",
      "metadata": {
        "id": "1lARINham2vi",
        "outputId": "df0c58dd-f0ee-482e-ceda-1e00cf8f2133",
        "colab": {
          "base_uri": "https://localhost:8080/"
        }
      },
      "source": [
        "keeper.add(\"test\", [1,2,3])\n",
        "keeper.show()"
      ],
      "execution_count": 5,
      "outputs": [
        {
          "output_type": "stream",
          "name": "stdout",
          "text": [
            "example\n",
            "test\n"
          ]
        }
      ]
    },
    {
      "cell_type": "markdown",
      "metadata": {
        "id": "a6ocUvIhnDCu"
      },
      "source": [
        "**Test 3:** delete dictionary item and show all list names"
      ]
    },
    {
      "cell_type": "code",
      "metadata": {
        "id": "sOmq325TnD3l",
        "outputId": "15dca9c6-73f2-4c6e-b640-5d60ae0f418d",
        "colab": {
          "base_uri": "https://localhost:8080/"
        }
      },
      "source": [
        "keeper.delete(\"test\")\n",
        "keeper.show()"
      ],
      "execution_count": 6,
      "outputs": [
        {
          "output_type": "stream",
          "name": "stdout",
          "text": [
            "example\n"
          ]
        }
      ]
    },
    {
      "cell_type": "markdown",
      "metadata": {
        "id": "T8lRy0sfnUcf"
      },
      "source": [
        "**Test 4:** add unsorted list and sort by size"
      ]
    },
    {
      "cell_type": "code",
      "metadata": {
        "id": "xYcPQbhKnVAp",
        "outputId": "09f73231-95ca-4de2-a066-e0af4d07b77b",
        "colab": {
          "base_uri": "https://localhost:8080/"
        }
      },
      "source": [
        "keeper.add(\"test2\", [6,4,7,5,8])\n",
        "print(keeper.lists[\"test2\"])\n",
        "keeper.sort(\"test2\")"
      ],
      "execution_count": 7,
      "outputs": [
        {
          "output_type": "stream",
          "name": "stdout",
          "text": [
            "[6, 4, 7, 5, 8]\n",
            "[4, 5, 6, 7, 8]\n"
          ]
        }
      ]
    },
    {
      "cell_type": "markdown",
      "metadata": {
        "id": "yUSQoFOgnVrH"
      },
      "source": [
        "**Test 5:** append values to a list"
      ]
    },
    {
      "cell_type": "code",
      "metadata": {
        "id": "bOfosmO3nV3K",
        "outputId": "ab5930df-1349-4f5f-d948-d78acf06b90b",
        "colab": {
          "base_uri": "https://localhost:8080/"
        }
      },
      "source": [
        "keeper.append(\"test2\", [1,2,3])\n",
        "print(keeper.lists[\"test2\"])"
      ],
      "execution_count": 8,
      "outputs": [
        {
          "output_type": "stream",
          "name": "stdout",
          "text": [
            "[4, 5, 6, 7, 8, 1, 2, 3]\n"
          ]
        }
      ]
    },
    {
      "cell_type": "code",
      "metadata": {
        "id": "8VE2k-FFn6VY"
      },
      "source": [
        ""
      ],
      "execution_count": null,
      "outputs": []
    }
  ]
}